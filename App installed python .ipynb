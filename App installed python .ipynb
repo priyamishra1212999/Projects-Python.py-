{
 "cells": [
  {
   "cell_type": "code",
   "execution_count": 1,
   "id": "59088741-47d9-4b0a-99bb-d314767a19df",
   "metadata": {},
   "outputs": [],
   "source": [
    "#import modules\n",
    "from tkinter import *\n",
    "import winapps"
   ]
  },
  {
   "cell_type": "code",
   "execution_count": 2,
   "id": "d266d50d-e6cf-4a92-9c8e-4045a03de665",
   "metadata": {},
   "outputs": [],
   "source": [
    "def app():\n",
    "    for item in winapps.search_installed(e.get()):\n",
    "        name.set(item.name)\n",
    "        version.set(item.version)\n",
    "        Install_date.set(item.install_date)\n",
    "        publisher.set(item.publisher)\n",
    "        uninstall_string.set(item.uninstall_string)"
   ]
  },
  {
   "cell_type": "code",
   "execution_count": 3,
   "id": "f0cfd3f2-a9b6-46bb-97e9-9cb379159d79",
   "metadata": {},
   "outputs": [],
   "source": [
    "# object of tkinter\n",
    "# and background set for grey\n",
    "master = Tk()\n",
    "master.configure(bg='light grey')\n",
    " \n",
    "# Variable Classes in tkinter\n",
    "name = StringVar()\n",
    "version = StringVar()\n",
    "Install_date = StringVar()\n",
    "publisher = StringVar()\n",
    "uninstall_string = StringVar()\n",
    "# name using widget Label\n",
    "Label(master, text=\"Enter App name : \",\n",
    "      bg=\"light grey\").grid(row=0, sticky=W)\n",
    "Label(master, text=\"Name : \",\n",
    "      bg=\"light grey\").grid(row=2, sticky=W)\n",
    "Label(master, text=\"Version :\",\n",
    "      bg=\"light grey\").grid(row=3, sticky=W)\n",
    "Label(master, text=\"Install date :\",\n",
    "      bg=\"light grey\").grid(row=4, sticky=W)\n",
    "Label(master, text=\"publisher :\",\n",
    "      bg=\"light grey\").grid(row=5, sticky=W)\n",
    "Label(master, text=\"Uninstall string :\",\n",
    "      bg=\"light grey\").grid(row=6, sticky=W)\n",
    " \n",
    " \n",
    "# Creating label for class variable\n",
    "# name using widget Entry\n",
    "Label(master, text=\"\", textvariable=name,\n",
    "      bg=\"light grey\").grid(row=2, column=1, sticky=W)\n",
    "Label(master, text=\"\", textvariable=version,\n",
    "      bg=\"light grey\").grid(row=3, column=1, sticky=W)\n",
    "Label(master, text=\"\", textvariable=Install_date,\n",
    "      bg=\"light grey\").grid(row=4, column=1, sticky=W)\n",
    "Label(master, text=\"\", textvariable=publisher,\n",
    "      bg=\"light grey\").grid(row=5, column=1, sticky=W)\n",
    "Label(master, text=\"\", textvariable=uninstall_string,\n",
    "      bg=\"light grey\").grid(row=6, column=1, sticky=W)\n",
    " \n",
    " \n",
    "e = Entry(master, width=30)\n",
    "e.grid(row=0, column=1)\n",
    " \n",
    "# creating a button using the widget\n",
    "b = Button(master, text=\"Show\", command=app, bg=\"Blue\")\n",
    "b.grid(row=0, column=2, columnspan=2, rowspan=2, padx=5, pady=5,)\n",
    " \n",
    "mainloop()"
   ]
  }
 ],
 "metadata": {
  "kernelspec": {
   "display_name": "Python 3 (ipykernel)",
   "language": "python",
   "name": "python3"
  },
  "language_info": {
   "codemirror_mode": {
    "name": "ipython",
    "version": 3
   },
   "file_extension": ".py",
   "mimetype": "text/x-python",
   "name": "python",
   "nbconvert_exporter": "python",
   "pygments_lexer": "ipython3",
   "version": "3.11.5"
  }
 },
 "nbformat": 4,
 "nbformat_minor": 5
}
